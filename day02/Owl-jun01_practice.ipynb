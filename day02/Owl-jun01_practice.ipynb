{
 "cells": [
  {
   "cell_type": "markdown",
   "metadata": {},
   "source": [
    "#### 1번\n",
    "- for 문 반복 숙달\n",
    "- 250 부터 0까지 50 간격으로 출력하시오."
   ]
  },
  {
   "cell_type": "code",
   "execution_count": 6,
   "metadata": {},
   "outputs": [
    {
     "name": "stdout",
     "output_type": "stream",
     "text": [
      "250 200 150 100 50 0 "
     ]
    }
   ],
   "source": [
    "for i in  reversed(range(0,251,50)):\n",
    "    print(i,end=' ')    # 출력 줄바꿈 없애기"
   ]
  },
  {
   "cell_type": "markdown",
   "metadata": {},
   "source": [
    "#### 2번\n",
    "- # 100 부터 400 까지 100 간격으로 출력하시오."
   ]
  },
  {
   "cell_type": "code",
   "execution_count": 7,
   "metadata": {},
   "outputs": [
    {
     "name": "stdout",
     "output_type": "stream",
     "text": [
      "100 200 300 400 "
     ]
    }
   ],
   "source": [
    "for i in range(100, 401, 100):\n",
    "    print(i,end=' ')"
   ]
  },
  {
   "cell_type": "markdown",
   "metadata": {},
   "source": [
    "#### 3번\n",
    "- 200 부터 -200 까지 20 간격으로 출력하시오."
   ]
  },
  {
   "cell_type": "code",
   "execution_count": 8,
   "metadata": {},
   "outputs": [
    {
     "name": "stdout",
     "output_type": "stream",
     "text": [
      "200 180 160 140 120 100 80 60 40 20 0 -20 -40 -60 -80 -100 -120 -140 -160 -180 -200 "
     ]
    }
   ],
   "source": [
    "for i in reversed(range(-200, 201,20)):\n",
    "    print(i,end=' ')"
   ]
  },
  {
   "cell_type": "markdown",
   "metadata": {},
   "source": [
    "#### 4번\n",
    "- 응용\n",
    "- 리스트 & for문 활용하기"
   ]
  },
  {
   "cell_type": "code",
   "execution_count": 19,
   "metadata": {},
   "outputs": [
    {
     "name": "stdout",
     "output_type": "stream",
     "text": [
      "10 20 30 40 50 60 70 80 "
     ]
    }
   ],
   "source": [
    "sample2 = [10,20,30,40,50,60,70,80]\n",
    "# 위 샘플 리스트를 꺼내서 출력해보세요.\n",
    "for i in sample2:\n",
    "    print(i, end=' ')"
   ]
  },
  {
   "cell_type": "markdown",
   "metadata": {},
   "source": [
    "#### 5번\n",
    "- 리스트 & for문 활용하기"
   ]
  },
  {
   "cell_type": "code",
   "execution_count": 27,
   "metadata": {},
   "outputs": [
    {
     "name": "stdout",
     "output_type": "stream",
     "text": [
      "3 9 15 21 27 "
     ]
    }
   ],
   "source": [
    "sample = [1,3,5,7,9]\n",
    "a =[]\n",
    "# 위 샘플 리스트의 각 요소에 *3 을 한 값을 출력하세요.\n",
    "for i in sample: # 여기 뭐넣어야 할까요\n",
    "    a = i * 3\n",
    "    print(a,end=' ')"
   ]
  }
 ],
 "metadata": {
  "kernelspec": {
   "display_name": "Python 3",
   "language": "python",
   "name": "python3"
  },
  "language_info": {
   "codemirror_mode": {
    "name": "ipython",
    "version": 3
   },
   "file_extension": ".py",
   "mimetype": "text/x-python",
   "name": "python",
   "nbconvert_exporter": "python",
   "pygments_lexer": "ipython3",
   "version": "3.11.9"
  }
 },
 "nbformat": 4,
 "nbformat_minor": 2
}
